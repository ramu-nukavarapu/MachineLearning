{
  "nbformat": 4,
  "nbformat_minor": 0,
  "metadata": {
    "colab": {
      "provenance": []
    },
    "kernelspec": {
      "name": "python3",
      "display_name": "Python 3"
    },
    "language_info": {
      "name": "python"
    }
  },
  "cells": [
    {
      "cell_type": "markdown",
      "source": [
        "##Variables"
      ],
      "metadata": {
        "id": "PenovhsDRwfC"
      }
    },
    {
      "cell_type": "code",
      "source": [
        "#valid variable declaration✅\n",
        "user_name = \"Alice\"\n",
        "age = 30\n",
        "_total = 100.5\n",
        "user2 = \"Bob\"\n",
        "first_name = \"John\""
      ],
      "metadata": {
        "id": "W2nydUVuRz52"
      },
      "execution_count": 1,
      "outputs": []
    },
    {
      "cell_type": "code",
      "source": [
        "\"\"\"Invalid variable declaration❌\"\"\"\n",
        "2user = \"Alice\"       # Invalid: starts with a number\n",
        "first-name = \"John\"   # Invalid: contains a hyphen\n",
        "total$ = 100.5        # Invalid: contains a special character $\n",
        "class = \"Class\"       # Invalid: 'class' is a reserved keyword"
      ],
      "metadata": {
        "colab": {
          "base_uri": "https://localhost:8080/",
          "height": 106
        },
        "id": "Qq_MA8KnR_4L",
        "outputId": "6a440ed2-5f16-4932-dabe-2ce5ae59aa56"
      },
      "execution_count": 2,
      "outputs": [
        {
          "output_type": "error",
          "ename": "SyntaxError",
          "evalue": "invalid decimal literal (<ipython-input-2-fe49d7b71272>, line 2)",
          "traceback": [
            "\u001b[0;36m  File \u001b[0;32m\"<ipython-input-2-fe49d7b71272>\"\u001b[0;36m, line \u001b[0;32m2\u001b[0m\n\u001b[0;31m    2user = \"Alice\"       # Invalid: starts with a number\u001b[0m\n\u001b[0m    ^\u001b[0m\n\u001b[0;31mSyntaxError\u001b[0m\u001b[0;31m:\u001b[0m invalid decimal literal\n"
          ]
        }
      ]
    },
    {
      "cell_type": "code",
      "source": [
        "#mutliple declarations in single line\n",
        "even,odd = 4,7\n",
        "\n",
        "#mutliple declarations with single value in single line\n",
        "x = y = 2\n"
      ],
      "metadata": {
        "id": "KYIKM5SLbdMc"
      },
      "execution_count": 26,
      "outputs": []
    },
    {
      "cell_type": "markdown",
      "source": [
        "##Data Types"
      ],
      "metadata": {
        "id": "IKPBRIqSS-V3"
      }
    },
    {
      "cell_type": "code",
      "source": [
        "# Integer\n",
        "age = 30\n",
        "\n",
        "# Float\n",
        "pi = 3.14159\n",
        "\n",
        "# String\n",
        "greeting = \"Hello, World!\"\n",
        "\n",
        "# Boolean\n",
        "is_active = True"
      ],
      "metadata": {
        "id": "ghXlP4dBTA1z"
      },
      "execution_count": 3,
      "outputs": []
    },
    {
      "cell_type": "markdown",
      "source": [
        "How should you know the type ?\n",
        "\n",
        "\n",
        "*   In python, there is a function called type()\n",
        "*   Which returns the type of the variable that is passed to it\n",
        "\n",
        "\n",
        "*   **syntax : type(variabbleName)**\n",
        "\n"
      ],
      "metadata": {
        "id": "6fpIVZBRUQJ9"
      }
    },
    {
      "cell_type": "code",
      "source": [
        "# Integer\n",
        "age = 30\n",
        "age_type = type(age)\n",
        "\n",
        "# Float\n",
        "pi = 3.14159\n",
        "pi_type = type(pi)\n",
        "\n",
        "# String\n",
        "greeting = \"Hello, World!\"\n",
        "greeting_type = type(greeting)\n",
        "\n",
        "# Boolean\n",
        "is_active = True\n",
        "is_active_type = type(is_active)"
      ],
      "metadata": {
        "id": "mFOsG0_GUO6C"
      },
      "execution_count": 4,
      "outputs": []
    },
    {
      "cell_type": "markdown",
      "source": [
        "##Output"
      ],
      "metadata": {
        "id": "NeO2VDaNW61g"
      }
    },
    {
      "cell_type": "code",
      "source": [
        "#simple print statement\n",
        "print(\"Hey Everyone\")"
      ],
      "metadata": {
        "colab": {
          "base_uri": "https://localhost:8080/"
        },
        "id": "CxH7zwVnW8sU",
        "outputId": "faf25c50-09bc-4a8e-aa82-50f7d5dc06bd"
      },
      "execution_count": 5,
      "outputs": [
        {
          "output_type": "stream",
          "name": "stdout",
          "text": [
            "Hey Everyone\n"
          ]
        }
      ]
    },
    {
      "cell_type": "code",
      "source": [
        "#printing constants\n",
        "print(10)\n",
        "print(0.99)"
      ],
      "metadata": {
        "colab": {
          "base_uri": "https://localhost:8080/"
        },
        "id": "6L-pV_4DX8f2",
        "outputId": "06f12534-bbdc-4008-d2df-a25a18641883"
      },
      "execution_count": 8,
      "outputs": [
        {
          "output_type": "stream",
          "name": "stdout",
          "text": [
            "10\n",
            "0.99\n"
          ]
        }
      ]
    },
    {
      "cell_type": "code",
      "source": [
        "name = \"ramu\"\n",
        "#printing values from variables\n",
        "print(\"I'm\",name)"
      ],
      "metadata": {
        "colab": {
          "base_uri": "https://localhost:8080/"
        },
        "id": "P44f3dUrXMdW",
        "outputId": "e9c6e1a0-2543-443b-9a22-bb72aa622543"
      },
      "execution_count": 6,
      "outputs": [
        {
          "output_type": "stream",
          "name": "stdout",
          "text": [
            "I'm  ramu\n"
          ]
        }
      ]
    },
    {
      "cell_type": "code",
      "source": [
        "length = 5\n",
        "breadth = 3\n",
        "#printing values from expression\n",
        "print(\"The area of rectangle is\",length*breadth)"
      ],
      "metadata": {
        "colab": {
          "base_uri": "https://localhost:8080/"
        },
        "id": "m39-txPwXX22",
        "outputId": "9879e665-82d9-494e-d081-ed69d1eb0299"
      },
      "execution_count": 7,
      "outputs": [
        {
          "output_type": "stream",
          "name": "stdout",
          "text": [
            "The area of rectangle is 15\n"
          ]
        }
      ]
    },
    {
      "cell_type": "markdown",
      "source": [
        "##Input"
      ],
      "metadata": {
        "id": "UCkQKB2MYKNj"
      }
    },
    {
      "cell_type": "code",
      "source": [
        "#Getting string input from keyboard\n",
        "inp = input()\n",
        "print(inp)\n",
        "print(type(inp))"
      ],
      "metadata": {
        "colab": {
          "base_uri": "https://localhost:8080/"
        },
        "id": "40pprsljYQDx",
        "outputId": "76c2c999-73da-49e2-9884-466350ffb3a7"
      },
      "execution_count": 9,
      "outputs": [
        {
          "output_type": "stream",
          "name": "stdout",
          "text": [
            "hello\n",
            "hello\n",
            "<class 'str'>\n"
          ]
        }
      ]
    },
    {
      "cell_type": "code",
      "source": [
        "\"\"\"\n",
        "Getting integer input from keyboard❌\n",
        "inp = input()\n",
        "print(inp)\n",
        "print(type(inp))\n",
        "\"\"\"\n",
        "#To get integer input, convert to int✅\n",
        "inp = int(input())\n",
        "print(inp)\n",
        "print(type(inp))"
      ],
      "metadata": {
        "colab": {
          "base_uri": "https://localhost:8080/"
        },
        "id": "lSA3NOpvYjxU",
        "outputId": "1eb79cfd-4adc-4b4a-d402-6faf6378a147"
      },
      "execution_count": 12,
      "outputs": [
        {
          "output_type": "stream",
          "name": "stdout",
          "text": [
            "5\n",
            "5\n",
            "<class 'type'>\n"
          ]
        }
      ]
    },
    {
      "cell_type": "code",
      "source": [
        "#To get float input, convert to float✅\n",
        "inp = float(input())\n",
        "print(inp)\n",
        "print(type(inp))"
      ],
      "metadata": {
        "colab": {
          "base_uri": "https://localhost:8080/"
        },
        "id": "GTLv-yiJYtha",
        "outputId": "521985a3-bd53-4014-b2e8-60d62243d313"
      },
      "execution_count": 13,
      "outputs": [
        {
          "output_type": "stream",
          "name": "stdout",
          "text": [
            "54.34\n",
            "54.34\n",
            "<class 'float'>\n"
          ]
        }
      ]
    },
    {
      "cell_type": "code",
      "source": [
        "#To get float input, convert to boolean✅\n",
        "inp = bool(input())\n",
        "print(inp)\n",
        "print(type(inp))\n",
        "\n",
        "# ** only empty string gives false else true 📌"
      ],
      "metadata": {
        "colab": {
          "base_uri": "https://localhost:8080/"
        },
        "id": "o-BJzECKZZR8",
        "outputId": "bbcf4fe1-4e40-485f-8e98-6ab0d177d265"
      },
      "execution_count": 23,
      "outputs": [
        {
          "output_type": "stream",
          "name": "stdout",
          "text": [
            "\n",
            "False\n",
            "<class 'bool'>\n"
          ]
        }
      ]
    },
    {
      "cell_type": "code",
      "source": [
        "#Giving description for the input\n",
        "name = input(\"enter your name: \")\n",
        "print(\"Nice to meet you\",name,\"!\")"
      ],
      "metadata": {
        "colab": {
          "base_uri": "https://localhost:8080/"
        },
        "id": "B7FQvFItcqOk",
        "outputId": "88f16fe4-6276-46c7-c956-e0a60fa87ea8"
      },
      "execution_count": 27,
      "outputs": [
        {
          "output_type": "stream",
          "name": "stdout",
          "text": [
            "enter your name: sai\n",
            "Nice to meet you sai !\n"
          ]
        }
      ]
    },
    {
      "cell_type": "markdown",
      "source": [
        "##Operators"
      ],
      "metadata": {
        "id": "enPc8eAEcQcz"
      }
    },
    {
      "cell_type": "markdown",
      "source": [
        "###Arithmetic Operators"
      ],
      "metadata": {
        "id": "Dtx92FSEAoq4"
      }
    },
    {
      "cell_type": "code",
      "source": [
        "# Addition\n",
        "result = 5 + 3  # result is 8\n",
        "\n",
        "# Subtraction\n",
        "result = 5 - 3  # result is 2\n",
        "\n",
        "# Multiplication\n",
        "result = 5 * 3  # result is 15\n",
        "\n",
        "# Division\n",
        "result = 5 / 3  # result is 1.666...\n",
        "\n",
        "# Modulus\n",
        "result = 5 % 3  # result is 2\n",
        "\n",
        "# Exponentiation\n",
        "result = 5 ** 3  # result is 125\n",
        "\n",
        "# Floor Division\n",
        "result = 5 // 3  # result is 1\n"
      ],
      "metadata": {
        "id": "UzzB2xk-Zyg7"
      },
      "execution_count": 1,
      "outputs": []
    },
    {
      "cell_type": "markdown",
      "source": [
        "###Assignment operators"
      ],
      "metadata": {
        "id": "3u8JutZwBKj7"
      }
    },
    {
      "cell_type": "code",
      "source": [
        "# Simple assignment\n",
        "x = 5\n",
        "\n",
        "# Add and assign\n",
        "x += 3  # equivalent to x = x + 3\n",
        "\n",
        "# Subtract and assign\n",
        "x -= 3  # equivalent to x = x - 3\n",
        "\n",
        "# Multiply and assign\n",
        "x *= 3  # equivalent to x = x * 3\n",
        "\n",
        "# Divide and assign\n",
        "x /= 3  # equivalent to x = x / 3\n",
        "\n",
        "# Modulus and assign\n",
        "x %= 3  # equivalent to x = x % 3\n",
        "\n",
        "# Exponentiation and assign\n",
        "x **= 3  # equivalent to x = x ** 3\n",
        "\n",
        "# Floor Division and assign\n",
        "x //= 3  # equivalent to x = x // 3\n"
      ],
      "metadata": {
        "id": "4oR5mk-pBIMb"
      },
      "execution_count": 3,
      "outputs": []
    },
    {
      "cell_type": "markdown",
      "source": [
        "###Comparison Operators"
      ],
      "metadata": {
        "id": "4YKotRubBg6n"
      }
    },
    {
      "cell_type": "code",
      "source": [
        "# Equal to\n",
        "result = 5 == 3  # result is False\n",
        "\n",
        "# Not equal to\n",
        "result = 5 != 3  # result is True\n",
        "\n",
        "# Greater than\n",
        "result = 5 > 3  # result is True\n",
        "\n",
        "# Less than\n",
        "result = 5 < 3  # result is False\n",
        "\n",
        "# Greater than or equal to\n",
        "result = 5 >= 3  # result is True\n",
        "\n",
        "# Less than or equal to\n",
        "result = 5 <= 3  # result is False\n"
      ],
      "metadata": {
        "id": "p3MQNmckBXT5"
      },
      "execution_count": 4,
      "outputs": []
    },
    {
      "cell_type": "markdown",
      "source": [
        "###Logical Operators"
      ],
      "metadata": {
        "id": "HcBtlc4sBwcX"
      }
    },
    {
      "cell_type": "code",
      "source": [
        "# Logical AND\n",
        "result = (5 > 3) and (3 > 1)  # result is True\n",
        "\n",
        "# Logical OR\n",
        "result = (5 > 3) or (3 > 5)  # result is True\n",
        "\n",
        "# Logical NOT\n",
        "result = not (5 > 3)  # result is False\n"
      ],
      "metadata": {
        "id": "gLh_QoewBuh7"
      },
      "execution_count": 6,
      "outputs": []
    },
    {
      "cell_type": "markdown",
      "source": [
        "###Identity Operators"
      ],
      "metadata": {
        "id": "1BR6g933B_Gy"
      }
    },
    {
      "cell_type": "code",
      "source": [
        "# Identity operators\n",
        "a = [1, 2, 3]\n",
        "b = a\n",
        "\n",
        "# is\n",
        "result = a is b  # result is True\n",
        "\n",
        "# is not\n",
        "result = a is not b  # result is False\n",
        "\n",
        "c = a[:]\n",
        "result = a is c  # result is False\n",
        "result = a == c  # result is True\n"
      ],
      "metadata": {
        "id": "cdCdvRK3CCIq"
      },
      "execution_count": 5,
      "outputs": []
    },
    {
      "cell_type": "markdown",
      "source": [
        "###Membership Operators"
      ],
      "metadata": {
        "id": "ur5JYbf8CELG"
      }
    },
    {
      "cell_type": "code",
      "source": [
        "# Membership operators\n",
        "lst = [1, 2, 3, 4, 5]\n",
        "\n",
        "# in\n",
        "result = 3 in lst  # result is True\n",
        "\n",
        "# not in\n",
        "result = 6 not in lst  # result is True\n"
      ],
      "metadata": {
        "id": "wo51SoQDCC_W"
      },
      "execution_count": 7,
      "outputs": []
    },
    {
      "cell_type": "markdown",
      "source": [
        "##Data Structures"
      ],
      "metadata": {
        "id": "GOkx8ATXCTLa"
      }
    },
    {
      "cell_type": "markdown",
      "source": [
        "###List"
      ],
      "metadata": {
        "id": "jygAhT8kCeqT"
      }
    },
    {
      "cell_type": "code",
      "source": [
        "# Creating a list\n",
        "my_list = [1, 2, 3, 4, 5]\n",
        "print(\"Initial list:\", my_list)\n",
        "\n",
        "# Accessing elements\n",
        "first_element = my_list[0]\n",
        "last_element = my_list[-1]\n",
        "print(\"First element:\", first_element)\n",
        "print(\"Last element:\", last_element)\n",
        "\n",
        "# Modifying elements\n",
        "my_list[0] = 10\n",
        "print(\"After modifying first element:\", my_list)\n",
        "\n",
        "# Append: Adds an element at the end of the list\n",
        "my_list.append(6)\n",
        "print(\"After append:\", my_list)\n",
        "\n",
        "# Insert: Inserts an element at a specified position\n",
        "my_list.insert(1, 15)\n",
        "print(\"After insert:\", my_list)\n",
        "\n",
        "# Extend: Adds all elements of another list to the end\n",
        "my_list.extend([7, 8])\n",
        "print(\"After extend:\", my_list)\n",
        "\n",
        "# Remove: Removes the first item with the specified value\n",
        "my_list.remove(15)\n",
        "print(\"After remove:\", my_list)\n",
        "\n",
        "# Pop: Removes the element at the specified position and returns it\n",
        "last_element = my_list.pop()\n",
        "print(\"Popped last element:\", last_element)\n",
        "print(\"After pop last element:\", my_list)\n",
        "specific_element = my_list.pop(1)\n",
        "print(\"Popped specific element:\", specific_element)\n",
        "print(\"After pop specific element:\", my_list)\n",
        "\n",
        "# Clear: Removes all elements from the list\n",
        "my_list.clear()\n",
        "print(\"After clear:\", my_list)\n",
        "\n",
        "# Recreating list for further methods\n",
        "my_list = [1, 2, 3, 4, 5, 2]\n",
        "print(\"Recreated list:\", my_list)\n",
        "\n",
        "# Index: Returns the index of the first occurrence of the specified value\n",
        "index_of_2 = my_list.index(2)\n",
        "print(\"Index of first 2:\", index_of_2)\n",
        "\n",
        "# Count: Returns the number of elements with the specified value\n",
        "count_of_2 = my_list.count(2)\n",
        "print(\"Count of 2s:\", count_of_2)\n",
        "\n",
        "# Sort: Sorts the list in ascending order\n",
        "my_list.sort()\n",
        "print(\"After sort:\", my_list)\n",
        "\n",
        "# Sort in descending order\n",
        "my_list.sort(reverse=True)\n",
        "print(\"After sort descending:\", my_list)\n",
        "\n",
        "# Reverse: Reverses the elements of the list\n",
        "my_list.reverse()\n",
        "print(\"After reverse:\", my_list)\n",
        "\n",
        "# Copy: Returns a shallow copy of the list\n",
        "new_list = my_list.copy()\n",
        "print(\"Copied list:\", new_list)\n",
        "\n",
        "# List comprehensions: Creating a list using an expression\n",
        "squares = [x**2 for x in my_list]\n",
        "print(\"Squares list:\", squares)\n",
        "\n",
        "# Combining list methods\n",
        "my_list.append(6)\n",
        "my_list.insert(0, 0)\n",
        "my_list.extend([7, 8, 9])\n",
        "my_list.remove(2)\n",
        "popped_element = my_list.pop()\n",
        "index_of_4 = my_list.index(4)\n",
        "count_of_3 = my_list.count(3)\n",
        "my_list.sort()\n",
        "my_list.reverse()\n",
        "copied_list = my_list.copy()\n",
        "my_list.clear()\n",
        "\n",
        "# Printing the list after various operations\n",
        "print(\"Final my_list after various operations:\", my_list)\n",
        "print(\"Copied list after various operations:\", copied_list)\n",
        "print(\"Squares list after various operations:\", squares)\n"
      ],
      "metadata": {
        "colab": {
          "base_uri": "https://localhost:8080/"
        },
        "id": "8F5Q0ucvCcWg",
        "outputId": "40bdf95f-b548-45b9-ed03-302e5a7fc3e3"
      },
      "execution_count": 9,
      "outputs": [
        {
          "output_type": "stream",
          "name": "stdout",
          "text": [
            "Initial list: [1, 2, 3, 4, 5]\n",
            "First element: 1\n",
            "Last element: 5\n",
            "After modifying first element: [10, 2, 3, 4, 5]\n",
            "After append: [10, 2, 3, 4, 5, 6]\n",
            "After insert: [10, 15, 2, 3, 4, 5, 6]\n",
            "After extend: [10, 15, 2, 3, 4, 5, 6, 7, 8]\n",
            "After remove: [10, 2, 3, 4, 5, 6, 7, 8]\n",
            "Popped last element: 8\n",
            "After pop last element: [10, 2, 3, 4, 5, 6, 7]\n",
            "Popped specific element: 2\n",
            "After pop specific element: [10, 3, 4, 5, 6, 7]\n",
            "After clear: []\n",
            "Recreated list: [1, 2, 3, 4, 5, 2]\n",
            "Index of first 2: 1\n",
            "Count of 2s: 2\n",
            "After sort: [1, 2, 2, 3, 4, 5]\n",
            "After sort descending: [5, 4, 3, 2, 2, 1]\n",
            "After reverse: [1, 2, 2, 3, 4, 5]\n",
            "Copied list: [1, 2, 2, 3, 4, 5]\n",
            "Squares list: [1, 4, 4, 9, 16, 25]\n",
            "Final my_list after various operations: []\n",
            "Copied list after various operations: [8, 7, 6, 5, 4, 3, 2, 1, 0]\n",
            "Squares list after various operations: [1, 4, 4, 9, 16, 25]\n"
          ]
        }
      ]
    },
    {
      "cell_type": "markdown",
      "source": [
        "###Tuple"
      ],
      "metadata": {
        "id": "kKOsLhC2C5yI"
      }
    },
    {
      "cell_type": "code",
      "source": [
        "# Creating Tuples\n",
        "empty_tuple = ()\n",
        "single_element_tuple = (1,)  # Note the comma\n",
        "multi_element_tuple = (1, 2, 3, 4, 5)\n",
        "\n",
        "# Without parentheses (tuple packing)\n",
        "packed_tuple = 1, 2, 3, 4, 5\n",
        "\n",
        "# Tuple unpacking\n",
        "a, b, c, d, e = packed_tuple\n",
        "\n",
        "# Accessing Elements\n",
        "first_element = multi_element_tuple[0]  # 1\n",
        "last_element = multi_element_tuple[-1]  # 5\n",
        "\n",
        "# Slicing\n",
        "sliced_tuple = multi_element_tuple[1:3]  # (2, 3)\n",
        "\n",
        "# Tuple Methods\n",
        "# Count: Returns the number of times a specified value appears in the tuple\n",
        "count_of_2 = multi_element_tuple.count(2)  # 1\n",
        "\n",
        "# Index: Returns the index of the first occurrence of the specified value\n",
        "index_of_4 = multi_element_tuple.index(4)  # 3\n",
        "\n",
        "# Tuple Operations\n",
        "# Concatenation: Combining tuples\n",
        "tuple1 = (1, 2, 3)\n",
        "tuple2 = (4, 5, 6)\n",
        "concatenated_tuple = tuple1 + tuple2  # (1, 2, 3, 4, 5, 6)\n",
        "\n",
        "# Repetition: Repeating elements in a tuple\n",
        "repeated_tuple = tuple1 * 2  # (1, 2, 3, 1, 2, 3)\n",
        "\n",
        "# Membership: Checking if an element exists in the tuple\n",
        "is_in_tuple = 3 in tuple1  # True\n",
        "is_not_in_tuple = 7 not in tuple1  # True\n",
        "\n",
        "# Tuple Functions\n",
        "# len: Returns the number of elements in the tuple\n",
        "length = len(multi_element_tuple)  # 5\n",
        "\n",
        "# max: Returns the largest element in the tuple\n",
        "max_element = max(multi_element_tuple)  # 5\n",
        "\n",
        "# min: Returns the smallest element in the tuple\n",
        "min_element = min(multi_element_tuple)  # 1\n",
        "\n",
        "# sum: Returns the sum of all elements in the tuple\n",
        "sum_of_elements = sum(multi_element_tuple)  # 15\n",
        "\n",
        "# Converting Between Lists and Tuples\n",
        "# Converting a list to a tuple\n",
        "my_list = [1, 2, 3, 4, 5]\n",
        "my_tuple = tuple(my_list)  # (1, 2, 3, 4, 5)\n",
        "\n",
        "# Converting a tuple to a list\n",
        "my_new_list = list(my_tuple)  # [1, 2, 3, 4, 5]\n",
        "\n",
        "# Nested Tuples\n",
        "nested_tuple = (1, 2, (3, 4), 5)\n",
        "inner_tuple = nested_tuple[2]  # (3, 4)\n",
        "inner_element = nested_tuple[2][0]  # 3\n",
        "\n",
        "# Printing the Tuple\n",
        "print(\"Multi Element Tuple:\", multi_element_tuple)\n",
        "print(\"Sliced Tuple:\", sliced_tuple)\n",
        "print(\"Concatenated Tuple:\", concatenated_tuple)\n",
        "print(\"Repeated Tuple:\", repeated_tuple)\n",
        "print(\"Nested Tuple:\", nested_tuple)\n",
        "print(\"Inner Tuple:\", inner_tuple)\n",
        "print(\"Inner Element:\", inner_element)\n"
      ],
      "metadata": {
        "colab": {
          "base_uri": "https://localhost:8080/"
        },
        "id": "bGp3_z6OC9RF",
        "outputId": "849df814-f91c-4447-eccf-8bbe2578bb15"
      },
      "execution_count": 10,
      "outputs": [
        {
          "output_type": "stream",
          "name": "stdout",
          "text": [
            "Multi Element Tuple: (1, 2, 3, 4, 5)\n",
            "Sliced Tuple: (2, 3)\n",
            "Concatenated Tuple: (1, 2, 3, 4, 5, 6)\n",
            "Repeated Tuple: (1, 2, 3, 1, 2, 3)\n",
            "Nested Tuple: (1, 2, (3, 4), 5)\n",
            "Inner Tuple: (3, 4)\n",
            "Inner Element: 3\n"
          ]
        }
      ]
    },
    {
      "cell_type": "markdown",
      "source": [
        "###Set"
      ],
      "metadata": {
        "id": "5Jud1SzXDSFl"
      }
    },
    {
      "cell_type": "code",
      "source": [
        "# Creating a Set\n",
        "my_set = {1, 2, 3, 4, 5}\n",
        "\n",
        "# Adding Elements\n",
        "my_set.add(6)  # my_set is now {1, 2, 3, 4, 5, 6}\n",
        "\n",
        "# Removing Elements\n",
        "my_set.remove(6)  # my_set is now {1, 2, 3, 4, 5}\n",
        "my_set.discard(6)  # my_set is still {1, 2, 3, 4, 5}\n",
        "popped_element = my_set.pop()  # popped_element is 1 (or another element), my_set is now {2, 3, 4, 5}\n",
        "my_set.clear()  # my_set is now set()\n",
        "\n",
        "# Recreating Set for Further Methods\n",
        "my_set = {1, 2, 3, 4, 5}\n",
        "\n",
        "# Set Operations\n",
        "another_set = {4, 5, 6, 7, 8}\n",
        "union_set = my_set.union(another_set)  # union_set is {1, 2, 3, 4, 5, 6, 7, 8}\n",
        "intersection_set = my_set.intersection(another_set)  # intersection_set is {4, 5}\n",
        "difference_set = my_set.difference(another_set)  # difference_set is {1, 2, 3}\n",
        "symmetric_difference_set = my_set.symmetric_difference(another_set)  # symmetric_difference_set is {1, 2, 3, 6, 7, 8}\n",
        "\n",
        "# Set Methods\n",
        "copied_set = my_set.copy()  # copied_set is {1, 2, 3, 4, 5}\n",
        "my_set.update(another_set)  # my_set is now {1, 2, 3, 4, 5, 6, 7, 8}\n",
        "my_set.intersection_update({4, 5, 9})  # my_set is now {4, 5}\n",
        "my_set.difference_update({4})  # my_set is now {5}\n",
        "my_set.symmetric_difference_update({5, 6})  # my_set is now {6}\n",
        "\n",
        "# Set Comparisons\n",
        "set_a = {1, 2, 3}\n",
        "set_b = {1, 2, 3, 4, 5}\n",
        "is_subset = set_a.issubset(set_b)  # is_subset is True\n",
        "is_superset = set_b.issuperset(set_a)  # is_superset is True\n",
        "is_disjoint = set_a.isdisjoint({6, 7, 8})  # is_disjoint is True\n",
        "\n",
        "# Creating a Frozen Set\n",
        "frozen_set = frozenset([1, 2, 3, 4, 5])\n",
        "\n",
        "# Printing Sets\n",
        "print(\"My Set:\", my_set)\n",
        "print(\"Another Set:\", another_set)\n",
        "print(\"Union Set:\", union_set)\n",
        "print(\"Intersection Set:\", intersection_set)\n",
        "print(\"Difference Set:\", difference_set)\n",
        "print(\"Symmetric Difference Set:\", symmetric_difference_set)\n",
        "print(\"Copied Set:\", copied_set)\n",
        "print(\"Frozen Set:\", frozen_set)\n",
        "print(\"Is Subset:\", is_subset)\n",
        "print(\"Is Superset:\", is_superset)\n",
        "print(\"Is Disjoint:\", is_disjoint)\n"
      ],
      "metadata": {
        "colab": {
          "base_uri": "https://localhost:8080/"
        },
        "id": "LqkvZr3KDUEo",
        "outputId": "d3e81cf6-8f39-47f1-b7b5-9091f69a119f"
      },
      "execution_count": 11,
      "outputs": [
        {
          "output_type": "stream",
          "name": "stdout",
          "text": [
            "My Set: {6}\n",
            "Another Set: {4, 5, 6, 7, 8}\n",
            "Union Set: {1, 2, 3, 4, 5, 6, 7, 8}\n",
            "Intersection Set: {4, 5}\n",
            "Difference Set: {1, 2, 3}\n",
            "Symmetric Difference Set: {1, 2, 3, 6, 7, 8}\n",
            "Copied Set: {1, 2, 3, 4, 5}\n",
            "Frozen Set: frozenset({1, 2, 3, 4, 5})\n",
            "Is Subset: True\n",
            "Is Superset: True\n",
            "Is Disjoint: True\n"
          ]
        }
      ]
    },
    {
      "cell_type": "markdown",
      "source": [
        "###Dictionary"
      ],
      "metadata": {
        "id": "B3fhsTg8DoTk"
      }
    },
    {
      "cell_type": "code",
      "source": [
        "# Creating a Dictionary\n",
        "my_dict = {\n",
        "    'name': 'Alice',\n",
        "    'age': 25,\n",
        "    'city': 'New York'\n",
        "}\n",
        "\n",
        "# Accessing Elements\n",
        "name = my_dict['name']  # 'Alice'\n",
        "age = my_dict.get('age')  # 25\n",
        "\n",
        "# Modifying Elements\n",
        "my_dict['age'] = 26  # my_dict is now {'name': 'Alice', 'age': 26, 'city': 'New York'}\n",
        "\n",
        "# Adding Elements\n",
        "my_dict['email'] = 'alice@example.com'  # my_dict is now {'name': 'Alice', 'age': 26, 'city': 'New York', 'email': 'alice@example.com'}\n",
        "\n",
        "# Dictionary Methods\n",
        "\n",
        "# Update: Updates the dictionary with elements from another dictionary or from an iterable of key-value pairs\n",
        "my_dict.update({'age': 27, 'city': 'Boston'})  # my_dict is now {'name': 'Alice', 'age': 27, 'city': 'Boston', 'email': 'alice@example.com'}\n",
        "\n",
        "# Pop: Removes the element with the specified key and returns its value\n",
        "email = my_dict.pop('email')  # 'alice@example.com', my_dict is now {'name': 'Alice', 'age': 27, 'city': 'Boston'}\n",
        "\n",
        "# Popitem: Removes the last inserted key-value pair and returns it as a tuple\n",
        "last_item = my_dict.popitem()  # ('city', 'Boston'), my_dict is now {'name': 'Alice', 'age': 27}\n",
        "\n",
        "# Clear: Removes all elements from the dictionary\n",
        "my_dict.clear()  # my_dict is now {}\n",
        "\n",
        "# Recreating Dictionary for Further Methods\n",
        "my_dict = {\n",
        "    'name': 'Alice',\n",
        "    'age': 25,\n",
        "    'city': 'New York'\n",
        "}\n",
        "\n",
        "# Keys: Returns a view object that displays a list of all the keys in the dictionary\n",
        "keys = my_dict.keys()  # dict_keys(['name', 'age', 'city'])\n",
        "\n",
        "# Values: Returns a view object that displays a list of all the values in the dictionary\n",
        "values = my_dict.values()  # dict_values(['Alice', 25, 'New York'])\n",
        "\n",
        "# Items: Returns a view object that displays a list of dictionary's key-value tuple pairs\n",
        "items = my_dict.items()  # dict_items([('name', 'Alice'), ('age', 25), ('city', 'New York')])\n",
        "\n",
        "# Copy: Returns a shallow copy of the dictionary\n",
        "new_dict = my_dict.copy()  # new_dict is {'name': 'Alice', 'age': 25, 'city': 'New York'}\n",
        "\n",
        "# fromkeys: Creates a new dictionary from the given sequence of elements with a value provided by the user\n",
        "keys = ['name', 'age', 'city']\n",
        "default_value = None\n",
        "another_dict = dict.fromkeys(keys, default_value)  # another_dict is {'name': None, 'age': None, 'city': None}\n",
        "\n",
        "# setdefault: Returns the value of the specified key. If the key does not exist, inserts the key with the specified value\n",
        "age = my_dict.setdefault('age', 30)  # 25 (since 'age' exists), my_dict remains unchanged\n",
        "nickname = my_dict.setdefault('nickname', 'Ali')  # 'Ali', my_dict is now {'name': 'Alice', 'age': 25, 'city': 'New York', 'nickname': 'Ali'}\n",
        "\n",
        "# Printing the dictionary after various operations\n",
        "print(\"My Dict:\", my_dict)\n",
        "print(\"Keys:\", list(keys))\n",
        "print(\"Values:\", list(values))\n",
        "print(\"Items:\", list(items))\n",
        "print(\"Copied Dict:\", new_dict)\n",
        "print(\"Another Dict:\", another_dict)\n"
      ],
      "metadata": {
        "colab": {
          "base_uri": "https://localhost:8080/"
        },
        "id": "gh3auTapDqR8",
        "outputId": "cd356311-3479-4194-b368-8004298adde2"
      },
      "execution_count": 8,
      "outputs": [
        {
          "output_type": "stream",
          "name": "stdout",
          "text": [
            "My Dict: {'name': 'Alice', 'age': 25, 'city': 'New York', 'nickname': 'Ali'}\n",
            "Keys: ['name', 'age', 'city']\n",
            "Values: ['Alice', 25, 'New York', 'Ali']\n",
            "Items: [('name', 'Alice'), ('age', 25), ('city', 'New York'), ('nickname', 'Ali')]\n",
            "Copied Dict: {'name': 'Alice', 'age': 25, 'city': 'New York'}\n",
            "Another Dict: {'name': None, 'age': None, 'city': None}\n"
          ]
        }
      ]
    },
    {
      "cell_type": "markdown",
      "source": [
        "##Conditionals"
      ],
      "metadata": {
        "id": "cGMqo1h8EFFu"
      }
    },
    {
      "cell_type": "markdown",
      "source": [
        "###Simple if"
      ],
      "metadata": {
        "id": "GFZ80Wn7EaDg"
      }
    },
    {
      "cell_type": "code",
      "source": [
        "# Example 1: Simple if statement\n",
        "x = 10\n",
        "if x > 5:\n",
        "    print(\"x is greater than 5\")\n"
      ],
      "metadata": {
        "colab": {
          "base_uri": "https://localhost:8080/"
        },
        "id": "hMJSthwBD_gT",
        "outputId": "72785d59-ea4a-4c2e-fc64-7d13353938cc"
      },
      "execution_count": 12,
      "outputs": [
        {
          "output_type": "stream",
          "name": "stdout",
          "text": [
            "x is greater than 5\n"
          ]
        }
      ]
    },
    {
      "cell_type": "markdown",
      "source": [
        "### if - else"
      ],
      "metadata": {
        "id": "ooa5pFjWE1GE"
      }
    },
    {
      "cell_type": "code",
      "source": [
        "# Example 2: if-else statement\n",
        "x = 3\n",
        "if x % 2 == 0:\n",
        "    print(\"x is even\")\n",
        "else:\n",
        "    print(\"x is odd\")\n"
      ],
      "metadata": {
        "colab": {
          "base_uri": "https://localhost:8080/"
        },
        "id": "HXNzhR7TE3oU",
        "outputId": "5f43d593-f799-4b34-9d73-5da3e5be4b40"
      },
      "execution_count": 13,
      "outputs": [
        {
          "output_type": "stream",
          "name": "stdout",
          "text": [
            "x is odd\n"
          ]
        }
      ]
    },
    {
      "cell_type": "markdown",
      "source": [
        "###if - elif - ladder"
      ],
      "metadata": {
        "id": "e4pnQbKsE6Kq"
      }
    },
    {
      "cell_type": "code",
      "source": [
        "# Example 3: if-elif-else statement\n",
        "x = 80\n",
        "if x > 90:\n",
        "    print(\"Grade is A\")\n",
        "elif x > 80:\n",
        "    print(\"Grade is B\")\n",
        "elif x > 70:\n",
        "    print(\"Grade is C\")\n",
        "else:\n",
        "    print(\"Grade is D\")"
      ],
      "metadata": {
        "colab": {
          "base_uri": "https://localhost:8080/"
        },
        "id": "ihttgW85E9k8",
        "outputId": "66ef4879-07f2-4878-b8ed-7f27db0869dd"
      },
      "execution_count": 14,
      "outputs": [
        {
          "output_type": "stream",
          "name": "stdout",
          "text": [
            "Grade is C\n"
          ]
        }
      ]
    },
    {
      "cell_type": "markdown",
      "source": [
        "###Nested if"
      ],
      "metadata": {
        "id": "IiepeMpuE_QG"
      }
    },
    {
      "cell_type": "code",
      "source": [
        "# Example: Nested if statements\n",
        "x = 10\n",
        "if x > 5:\n",
        "    print(\"x is greater than 5\")\n",
        "    if x % 2 == 0:\n",
        "        print(\"x is even\")\n",
        "    else:\n",
        "        print(\"x is odd\")\n",
        "else:\n",
        "    print(\"x is not greater than 5\")"
      ],
      "metadata": {
        "colab": {
          "base_uri": "https://localhost:8080/"
        },
        "id": "SttC_fxFFB1R",
        "outputId": "261a3033-8cd7-415c-9022-dfb98d2c3d47"
      },
      "execution_count": 15,
      "outputs": [
        {
          "output_type": "stream",
          "name": "stdout",
          "text": [
            "x is greater than 5\n",
            "x is even\n"
          ]
        }
      ]
    },
    {
      "cell_type": "markdown",
      "source": [
        "##Loops"
      ],
      "metadata": {
        "id": "V92V4kM1FK_m"
      }
    },
    {
      "cell_type": "markdown",
      "source": [
        "### for - loop"
      ],
      "metadata": {
        "id": "-xNzpDJSFoRF"
      }
    },
    {
      "cell_type": "code",
      "source": [
        "# Example 1: Iterating over a list\n",
        "fruits = [\"apple\", \"banana\", \"cherry\"]\n",
        "for fruit in fruits:\n",
        "    print(fruit)\n",
        "\n",
        "# Example 2: Iterating over a range\n",
        "for i in range(5):\n",
        "    print(i)"
      ],
      "metadata": {
        "colab": {
          "base_uri": "https://localhost:8080/"
        },
        "id": "TVxgSE2LFIo6",
        "outputId": "6a8be732-a6b8-4a74-dd7e-d42f508d9583"
      },
      "execution_count": 16,
      "outputs": [
        {
          "output_type": "stream",
          "name": "stdout",
          "text": [
            "apple\n",
            "banana\n",
            "cherry\n",
            "0\n",
            "1\n",
            "2\n",
            "3\n",
            "4\n"
          ]
        }
      ]
    },
    {
      "cell_type": "markdown",
      "source": [
        "###while - loop"
      ],
      "metadata": {
        "id": "cdydIzDeFvV8"
      }
    },
    {
      "cell_type": "code",
      "source": [
        "# Example: while loop to count down from 5 to 1\n",
        "count = 5\n",
        "while count > 0:\n",
        "    print(count)\n",
        "    count -= 1"
      ],
      "metadata": {
        "colab": {
          "base_uri": "https://localhost:8080/"
        },
        "id": "6Kpg-DIvFuA2",
        "outputId": "2d52679f-f434-411e-8532-e0e9ed84c7aa"
      },
      "execution_count": 17,
      "outputs": [
        {
          "output_type": "stream",
          "name": "stdout",
          "text": [
            "5\n",
            "4\n",
            "3\n",
            "2\n",
            "1\n"
          ]
        }
      ]
    },
    {
      "cell_type": "markdown",
      "source": [
        "##Functions"
      ],
      "metadata": {
        "id": "UfrF7joVF4cL"
      }
    },
    {
      "cell_type": "markdown",
      "source": [
        "###Simple Functions"
      ],
      "metadata": {
        "id": "COqIjxv-GjDy"
      }
    },
    {
      "cell_type": "code",
      "source": [
        "# Example: Defining a basic function\n",
        "def greet():\n",
        "    print(\"Hello, world!\")\n",
        "\n",
        "# Calling the function\n",
        "greet()\n"
      ],
      "metadata": {
        "colab": {
          "base_uri": "https://localhost:8080/"
        },
        "id": "3ZwIoXBKGgvX",
        "outputId": "7faad95a-abb3-4371-c444-31becb857b41"
      },
      "execution_count": 19,
      "outputs": [
        {
          "output_type": "stream",
          "name": "stdout",
          "text": [
            "Hello, world!\n"
          ]
        }
      ]
    },
    {
      "cell_type": "markdown",
      "source": [
        "###Functions with parameters"
      ],
      "metadata": {
        "id": "JutcE6mLGkel"
      }
    },
    {
      "cell_type": "code",
      "source": [
        "# Example: Function with parameters\n",
        "def greet(name):\n",
        "    print(\"Hello, \" + name + \"!\")\n",
        "\n",
        "# Calling the function with an argument\n",
        "greet(\"Alice\")\n"
      ],
      "metadata": {
        "colab": {
          "base_uri": "https://localhost:8080/"
        },
        "id": "9zNvdUe2Ggtm",
        "outputId": "c655c7be-a0ac-44a4-b0c0-c94d677c8c4b"
      },
      "execution_count": 20,
      "outputs": [
        {
          "output_type": "stream",
          "name": "stdout",
          "text": [
            "Hello, Alice!\n"
          ]
        }
      ]
    },
    {
      "cell_type": "markdown",
      "source": [
        "###Functions with default parameters"
      ],
      "metadata": {
        "id": "qWtz5KuOGlmk"
      }
    },
    {
      "cell_type": "code",
      "source": [
        "# Example: Function with default parameters\n",
        "def greet(name=\"world\"):\n",
        "    print(\"Hello, \" + name + \"!\")\n",
        "\n",
        "# Calling the function without an argument\n",
        "greet()  # Output: Hello, world!\n",
        "\n",
        "# Calling the function with an argument\n",
        "greet(\"Alice\")  # Output: Hello, Alice!\n"
      ],
      "metadata": {
        "colab": {
          "base_uri": "https://localhost:8080/"
        },
        "id": "UaLngaSTGgr_",
        "outputId": "7211aa2d-fc28-43ae-b5ce-cd2a45f2aa93"
      },
      "execution_count": 21,
      "outputs": [
        {
          "output_type": "stream",
          "name": "stdout",
          "text": [
            "Hello, world!\n",
            "Hello, Alice!\n"
          ]
        }
      ]
    },
    {
      "cell_type": "markdown",
      "source": [
        "###Function with Return statement"
      ],
      "metadata": {
        "id": "ienYcGsxGoUB"
      }
    },
    {
      "cell_type": "code",
      "source": [
        "# Example: Function returning a value\n",
        "def add(a, b):\n",
        "    return a + b\n",
        "\n",
        "# Calling the function and storing the result\n",
        "result = add(3, 5)\n",
        "print(result)  # Output: 8\n"
      ],
      "metadata": {
        "colab": {
          "base_uri": "https://localhost:8080/"
        },
        "id": "jhRtwZ-JGgqA",
        "outputId": "bf5d4ea9-d0d3-4791-a8e2-c24426fa9f7b"
      },
      "execution_count": 22,
      "outputs": [
        {
          "output_type": "stream",
          "name": "stdout",
          "text": [
            "8\n"
          ]
        }
      ]
    },
    {
      "cell_type": "markdown",
      "source": [
        "###Recursive Functions"
      ],
      "metadata": {
        "id": "5ey9_mVGHKs4"
      }
    },
    {
      "cell_type": "code",
      "source": [
        "# Example: Recursive function to calculate factorial\n",
        "def factorial(n):\n",
        "    if n == 0:\n",
        "        return 1\n",
        "    else:\n",
        "        return n * factorial(n-1)\n",
        "\n",
        "# Calling the function\n",
        "result = factorial(5)\n",
        "print(result)  # Output: 120 (5! = 5 * 4 * 3 * 2 * 1)\n"
      ],
      "metadata": {
        "colab": {
          "base_uri": "https://localhost:8080/"
        },
        "id": "xBouFpsKHM0F",
        "outputId": "605ff7ea-3627-4405-cda5-2228e7a8ffc5"
      },
      "execution_count": 23,
      "outputs": [
        {
          "output_type": "stream",
          "name": "stdout",
          "text": [
            "120\n"
          ]
        }
      ]
    }
  ]
}